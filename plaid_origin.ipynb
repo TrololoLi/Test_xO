{
 "cells": [
  {
   "cell_type": "code",
   "execution_count": 9,
   "metadata": {},
   "outputs": [],
   "source": [
    "import requests\n",
    "import json\n",
    "import pandas as pd\n",
    "\n",
    "from plaid import Client"
   ]
  },
  {
   "cell_type": "code",
   "execution_count": 2,
   "metadata": {},
   "outputs": [],
   "source": [
    "# API_ROOT = \"https://sandbox.plaid.com\"\n",
    "TOKEN_URL = \"https://sandbox.plaid.com/sandbox/public_token/create\"\n",
    "PLAID_CLIENT_ID = \"5ecc3b1e83a47600129f6d43\"\n",
    "PLAID_SECRET = \"7f4ece2a8c3ccebd147d92a548bcaf\"\n",
    "PLAID_PUBLIC_KEY = \"d92b2cb6724519c30c71daf2ac7358\""
   ]
  },
  {
   "cell_type": "code",
   "execution_count": 3,
   "metadata": {},
   "outputs": [],
   "source": [
    "client = Client(\n",
    "    client_id=PLAID_CLIENT_ID, \n",
    "    secret=PLAID_SECRET, \n",
    "    public_key=PLAID_PUBLIC_KEY, \n",
    "    environment='sandbox'\n",
    ")"
   ]
  },
  {
   "cell_type": "code",
   "execution_count": 4,
   "metadata": {},
   "outputs": [],
   "source": [
    "token_data = {\n",
    "  \"public_key\": PLAID_PUBLIC_KEY,\n",
    "  \"institution_id\": \"ins_1\",\n",
    "  \"initial_products\": [\"auth\"],\n",
    "  \"options\": {\"webhook\": \"https://www.genericwebhookurl.com/webhook\"},\n",
    "}\n",
    "\n",
    "response_tok = requests.post(TOKEN_URL, json = token_data, headers={\n",
    "    \"Content-Type\": \"application/json\"\n",
    "})\n",
    "\n",
    "public_token = response_tok.json()[\"public_token\"]"
   ]
  },
  {
   "cell_type": "code",
   "execution_count": 5,
   "metadata": {},
   "outputs": [],
   "source": [
    "exchange_response = client.Item.public_token.exchange(public_token)\n",
    "access_token = exchange_response['access_token']"
   ]
  },
  {
   "cell_type": "code",
   "execution_count": 7,
   "metadata": {},
   "outputs": [],
   "source": [
    "transactions_response =  client.Transactions.get(access_token, '2019-12-01', '2020-05-27')"
   ]
  },
  {
   "cell_type": "code",
   "execution_count": 10,
   "metadata": {},
   "outputs": [],
   "source": [
    "transactions_response = pd.DataFrame(transactions_response['transactions'])"
   ]
  },
  {
   "cell_type": "code",
   "execution_count": 12,
   "metadata": {},
   "outputs": [],
   "source": [
    "categories = transactions_response['category'].apply(pd.Series)\\\n",
    "                                            .rename(columns = lambda x : 'cat_' + str(x))\\\n",
    "                                            .drop(['cat_2'],axis = 1)"
   ]
  },
  {
   "cell_type": "code",
   "execution_count": 13,
   "metadata": {},
   "outputs": [],
   "source": [
    "transactions_final = pd.concat([transactions_response[:], categories[:]], axis=1)"
   ]
  },
  {
   "cell_type": "code",
   "execution_count": 14,
   "metadata": {},
   "outputs": [],
   "source": [
    "transactions_final['amount'] = pd.to_numeric(transactions_final['amount'])\n",
    "transactions_final['date'] = pd.to_datetime(transactions_final.date).dt.strftime('%m/%Y')"
   ]
  },
  {
   "cell_type": "code",
   "execution_count": 15,
   "metadata": {},
   "outputs": [],
   "source": [
    "income = transactions_final[transactions_final['amount']>0]\n",
    "expense = transactions_final[transactions_final['amount']<0]"
   ]
  },
  {
   "cell_type": "code",
   "execution_count": 16,
   "metadata": {},
   "outputs": [
    {
     "name": "stderr",
     "output_type": "stream",
     "text": [
      "C:\\Users\\t.linnik\\Anaconda3\\lib\\site-packages\\ipykernel_launcher.py:1: SettingWithCopyWarning: \n",
      "A value is trying to be set on a copy of a slice from a DataFrame.\n",
      "Try using .loc[row_indexer,col_indexer] = value instead\n",
      "\n",
      "See the caveats in the documentation: https://pandas.pydata.org/pandas-docs/stable/user_guide/indexing.html#returning-a-view-versus-a-copy\n",
      "  \"\"\"Entry point for launching an IPython kernel.\n",
      "C:\\Users\\t.linnik\\Anaconda3\\lib\\site-packages\\ipykernel_launcher.py:2: SettingWithCopyWarning: \n",
      "A value is trying to be set on a copy of a slice from a DataFrame.\n",
      "Try using .loc[row_indexer,col_indexer] = value instead\n",
      "\n",
      "See the caveats in the documentation: https://pandas.pydata.org/pandas-docs/stable/user_guide/indexing.html#returning-a-view-versus-a-copy\n",
      "  \n"
     ]
    }
   ],
   "source": [
    "income['cat_'] = 'Income'\n",
    "expense['cat_'] = 'Expense'"
   ]
  },
  {
   "cell_type": "code",
   "execution_count": 17,
   "metadata": {},
   "outputs": [],
   "source": [
    "income_final = income[['amount','category_id','date','cat_0','cat_1','cat_']].groupby(['category_id','date'])\\\n",
    "                                                                        .agg({'cat_':'first','cat_0':'first','cat_1':'first','amount':'sum'})\\\n",
    "                                                                        .reset_index()\n",
    "expense_final = expense[['amount','category_id','date','cat_0','cat_1','cat_']].groupby(['category_id','date'])\\\n",
    "                                                                        .agg({'cat_':'first','cat_0':'first','cat_1':'first','amount':'sum'})\\\n",
    "                                                                        .reset_index()"
   ]
  },
  {
   "cell_type": "code",
   "execution_count": 18,
   "metadata": {},
   "outputs": [],
   "source": [
    "cashflow = pd.merge(income_final,expense_final,how='outer')"
   ]
  },
  {
   "cell_type": "code",
   "execution_count": 19,
   "metadata": {},
   "outputs": [],
   "source": [
    "cashflow_results = pd.pivot_table(cashflow, values = ['amount'], index=['cat_','cat_0','cat_1'], columns=['date'], aggfunc='sum')"
   ]
  },
  {
   "cell_type": "code",
   "execution_count": 20,
   "metadata": {},
   "outputs": [],
   "source": [
    "cashflow_results['total']=cashflow_results.sum(axis=1)"
   ]
  },
  {
   "cell_type": "code",
   "execution_count": 21,
   "metadata": {},
   "outputs": [
    {
     "data": {
      "text/html": [
       "<div>\n",
       "<style scoped>\n",
       "    .dataframe tbody tr th:only-of-type {\n",
       "        vertical-align: middle;\n",
       "    }\n",
       "\n",
       "    .dataframe tbody tr th {\n",
       "        vertical-align: top;\n",
       "    }\n",
       "\n",
       "    .dataframe thead tr th {\n",
       "        text-align: left;\n",
       "    }\n",
       "\n",
       "    .dataframe thead tr:last-of-type th {\n",
       "        text-align: right;\n",
       "    }\n",
       "</style>\n",
       "<table border=\"1\" class=\"dataframe\">\n",
       "  <thead>\n",
       "    <tr>\n",
       "      <th></th>\n",
       "      <th></th>\n",
       "      <th></th>\n",
       "      <th colspan=\"6\" halign=\"left\">amount</th>\n",
       "      <th>total</th>\n",
       "    </tr>\n",
       "    <tr>\n",
       "      <th></th>\n",
       "      <th></th>\n",
       "      <th>date</th>\n",
       "      <th>01/2020</th>\n",
       "      <th>02/2020</th>\n",
       "      <th>03/2020</th>\n",
       "      <th>04/2020</th>\n",
       "      <th>05/2020</th>\n",
       "      <th>12/2019</th>\n",
       "      <th></th>\n",
       "    </tr>\n",
       "    <tr>\n",
       "      <th>cat_</th>\n",
       "      <th>cat_0</th>\n",
       "      <th>cat_1</th>\n",
       "      <th></th>\n",
       "      <th></th>\n",
       "      <th></th>\n",
       "      <th></th>\n",
       "      <th></th>\n",
       "      <th></th>\n",
       "      <th></th>\n",
       "    </tr>\n",
       "  </thead>\n",
       "  <tbody>\n",
       "    <tr>\n",
       "      <th rowspan=\"2\" valign=\"top\">Expense</th>\n",
       "      <th>Transfer</th>\n",
       "      <th>Credit</th>\n",
       "      <td>-4.22</td>\n",
       "      <td>-4.22</td>\n",
       "      <td>-4.22</td>\n",
       "      <td>-4.22</td>\n",
       "      <td>-4.22</td>\n",
       "      <td>-4.22</td>\n",
       "      <td>-25.32</td>\n",
       "    </tr>\n",
       "    <tr>\n",
       "      <th>Travel</th>\n",
       "      <th>Airlines and Aviation Services</th>\n",
       "      <td>-500.00</td>\n",
       "      <td>-500.00</td>\n",
       "      <td>-500.00</td>\n",
       "      <td>-500.00</td>\n",
       "      <td>-500.00</td>\n",
       "      <td>-500.00</td>\n",
       "      <td>-3000.00</td>\n",
       "    </tr>\n",
       "    <tr>\n",
       "      <th rowspan=\"8\" valign=\"top\">Income</th>\n",
       "      <th>Food and Drink</th>\n",
       "      <th>Restaurants</th>\n",
       "      <td>1105.73</td>\n",
       "      <td>1105.73</td>\n",
       "      <td>1105.73</td>\n",
       "      <td>1105.73</td>\n",
       "      <td>1105.73</td>\n",
       "      <td>1105.73</td>\n",
       "      <td>6634.38</td>\n",
       "    </tr>\n",
       "    <tr>\n",
       "      <th>Payment</th>\n",
       "      <th>Credit Card</th>\n",
       "      <td>25.00</td>\n",
       "      <td>25.00</td>\n",
       "      <td>25.00</td>\n",
       "      <td>25.00</td>\n",
       "      <td>25.00</td>\n",
       "      <td>25.00</td>\n",
       "      <td>150.00</td>\n",
       "    </tr>\n",
       "    <tr>\n",
       "      <th>Recreation</th>\n",
       "      <th>Gyms and Fitness Centers</th>\n",
       "      <td>78.50</td>\n",
       "      <td>78.50</td>\n",
       "      <td>78.50</td>\n",
       "      <td>78.50</td>\n",
       "      <td>78.50</td>\n",
       "      <td>78.50</td>\n",
       "      <td>471.00</td>\n",
       "    </tr>\n",
       "    <tr>\n",
       "      <th>Shops</th>\n",
       "      <th>Sporting Goods</th>\n",
       "      <td>500.00</td>\n",
       "      <td>500.00</td>\n",
       "      <td>500.00</td>\n",
       "      <td>500.00</td>\n",
       "      <td>500.00</td>\n",
       "      <td>500.00</td>\n",
       "      <td>3000.00</td>\n",
       "    </tr>\n",
       "    <tr>\n",
       "      <th rowspan=\"2\" valign=\"top\">Transfer</th>\n",
       "      <th>Debit</th>\n",
       "      <td>5850.00</td>\n",
       "      <td>5850.00</td>\n",
       "      <td>5850.00</td>\n",
       "      <td>5850.00</td>\n",
       "      <td>5850.00</td>\n",
       "      <td>5850.00</td>\n",
       "      <td>35100.00</td>\n",
       "    </tr>\n",
       "    <tr>\n",
       "      <th>Deposit</th>\n",
       "      <td>1000.00</td>\n",
       "      <td>1000.00</td>\n",
       "      <td>1000.00</td>\n",
       "      <td>1000.00</td>\n",
       "      <td>1000.00</td>\n",
       "      <td>1000.00</td>\n",
       "      <td>6000.00</td>\n",
       "    </tr>\n",
       "    <tr>\n",
       "      <th rowspan=\"2\" valign=\"top\">Travel</th>\n",
       "      <th>Airlines and Aviation Services</th>\n",
       "      <td>1000.00</td>\n",
       "      <td>NaN</td>\n",
       "      <td>1000.00</td>\n",
       "      <td>500.00</td>\n",
       "      <td>NaN</td>\n",
       "      <td>500.00</td>\n",
       "      <td>3000.00</td>\n",
       "    </tr>\n",
       "    <tr>\n",
       "      <th>Taxi</th>\n",
       "      <td>11.73</td>\n",
       "      <td>11.73</td>\n",
       "      <td>11.73</td>\n",
       "      <td>11.73</td>\n",
       "      <td>5.40</td>\n",
       "      <td>11.73</td>\n",
       "      <td>64.05</td>\n",
       "    </tr>\n",
       "  </tbody>\n",
       "</table>\n",
       "</div>"
      ],
      "text/plain": [
       "                                                        amount           \\\n",
       "date                                                   01/2020  02/2020   \n",
       "cat_    cat_0          cat_1                                              \n",
       "Expense Transfer       Credit                            -4.22    -4.22   \n",
       "        Travel         Airlines and Aviation Services  -500.00  -500.00   \n",
       "Income  Food and Drink Restaurants                     1105.73  1105.73   \n",
       "        Payment        Credit Card                       25.00    25.00   \n",
       "        Recreation     Gyms and Fitness Centers          78.50    78.50   \n",
       "        Shops          Sporting Goods                   500.00   500.00   \n",
       "        Transfer       Debit                           5850.00  5850.00   \n",
       "                       Deposit                         1000.00  1000.00   \n",
       "        Travel         Airlines and Aviation Services  1000.00      NaN   \n",
       "                       Taxi                              11.73    11.73   \n",
       "\n",
       "                                                                         \\\n",
       "date                                                   03/2020  04/2020   \n",
       "cat_    cat_0          cat_1                                              \n",
       "Expense Transfer       Credit                            -4.22    -4.22   \n",
       "        Travel         Airlines and Aviation Services  -500.00  -500.00   \n",
       "Income  Food and Drink Restaurants                     1105.73  1105.73   \n",
       "        Payment        Credit Card                       25.00    25.00   \n",
       "        Recreation     Gyms and Fitness Centers          78.50    78.50   \n",
       "        Shops          Sporting Goods                   500.00   500.00   \n",
       "        Transfer       Debit                           5850.00  5850.00   \n",
       "                       Deposit                         1000.00  1000.00   \n",
       "        Travel         Airlines and Aviation Services  1000.00   500.00   \n",
       "                       Taxi                              11.73    11.73   \n",
       "\n",
       "                                                                         \\\n",
       "date                                                   05/2020  12/2019   \n",
       "cat_    cat_0          cat_1                                              \n",
       "Expense Transfer       Credit                            -4.22    -4.22   \n",
       "        Travel         Airlines and Aviation Services  -500.00  -500.00   \n",
       "Income  Food and Drink Restaurants                     1105.73  1105.73   \n",
       "        Payment        Credit Card                       25.00    25.00   \n",
       "        Recreation     Gyms and Fitness Centers          78.50    78.50   \n",
       "        Shops          Sporting Goods                   500.00   500.00   \n",
       "        Transfer       Debit                           5850.00  5850.00   \n",
       "                       Deposit                         1000.00  1000.00   \n",
       "        Travel         Airlines and Aviation Services      NaN   500.00   \n",
       "                       Taxi                               5.40    11.73   \n",
       "\n",
       "                                                          total  \n",
       "date                                                             \n",
       "cat_    cat_0          cat_1                                     \n",
       "Expense Transfer       Credit                            -25.32  \n",
       "        Travel         Airlines and Aviation Services  -3000.00  \n",
       "Income  Food and Drink Restaurants                      6634.38  \n",
       "        Payment        Credit Card                       150.00  \n",
       "        Recreation     Gyms and Fitness Centers          471.00  \n",
       "        Shops          Sporting Goods                   3000.00  \n",
       "        Transfer       Debit                           35100.00  \n",
       "                       Deposit                          6000.00  \n",
       "        Travel         Airlines and Aviation Services   3000.00  \n",
       "                       Taxi                               64.05  "
      ]
     },
     "execution_count": 21,
     "metadata": {},
     "output_type": "execute_result"
    }
   ],
   "source": [
    "cashflow_results"
   ]
  },
  {
   "cell_type": "code",
   "execution_count": 22,
   "metadata": {},
   "outputs": [],
   "source": [
    "cashflow_results.to_excel('plaid.xlsx')"
   ]
  },
  {
   "cell_type": "code",
   "execution_count": 23,
   "metadata": {},
   "outputs": [],
   "source": [
    "transactions_raw_data =  client.Transactions.get(access_token, '2019-12-01', '2020-05-27')"
   ]
  },
  {
   "cell_type": "code",
   "execution_count": 35,
   "metadata": {},
   "outputs": [],
   "source": [
    "df = pd.DataFrame(transactions_raw_data['transactions'])\n",
    "df.to_csv(\"./file.csv\", sep=',',index=False)"
   ]
  }
 ],
 "metadata": {
  "kernelspec": {
   "display_name": "Python 3",
   "language": "python",
   "name": "python3"
  },
  "language_info": {
   "codemirror_mode": {
    "name": "ipython",
    "version": 3
   },
   "file_extension": ".py",
   "mimetype": "text/x-python",
   "name": "python",
   "nbconvert_exporter": "python",
   "pygments_lexer": "ipython3",
   "version": "3.7.6"
  }
 },
 "nbformat": 4,
 "nbformat_minor": 4
}
